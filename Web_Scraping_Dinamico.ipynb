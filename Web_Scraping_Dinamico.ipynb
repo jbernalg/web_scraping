{
 "cells": [
  {
   "cell_type": "markdown",
   "id": "731b6c3d",
   "metadata": {},
   "source": [
    "# __Web Scraping desde la paractica: Paginas Dinamicas__"
   ]
  },
  {
   "cell_type": "markdown",
   "id": "b87d64af",
   "metadata": {},
   "source": [
    "Las paginas web dinamicas renderizan el HTML conforme vamos haciendo scroll de la misma. Esto genera un gran desafio a la hora de scrapear ya que no tiene definido un limite. Para solucionarlo, vamos a usar Selenium."
   ]
  },
  {
   "cell_type": "markdown",
   "id": "fefc30b1",
   "metadata": {},
   "source": [
    "## Importar librerias"
   ]
  },
  {
   "cell_type": "code",
   "execution_count": 1,
   "id": "a8dd6924",
   "metadata": {},
   "outputs": [],
   "source": [
    "import requests"
   ]
  },
  {
   "cell_type": "markdown",
   "id": "ff80cbf3",
   "metadata": {},
   "source": [
    "## Obtener sitio web dinamico desde una peticion"
   ]
  },
  {
   "cell_type": "code",
   "execution_count": 2,
   "id": "336c6112",
   "metadata": {},
   "outputs": [
    {
     "name": "stdout",
     "output_type": "stream",
     "text": [
      "<!DOCTYPE html>\n",
      "<html lang=\"en\">\n",
      "<head>\n",
      "\t<meta charset=\"UTF-8\">\n",
      "\t<title>Quotes to Scrape</title>\n",
      "    <link rel=\"stylesheet\" href=\"/static/bootstrap.min.css\">\n",
      "    <link rel=\"stylesheet\" href=\"/static/main.css\">\n",
      "    \n",
      "    \n",
      "</head>\n",
      "<body>\n",
      "    <div class=\"container\">\n",
      "        <div class=\"row header-box\">\n",
      "            <div class=\"col-md-8\">\n",
      "                <h1>\n",
      "                    <a href=\"/\" style=\"text-decoration: none\">Quotes to Scrape</a>\n",
      "                </h1>\n",
      "            </div>\n",
      "            <div class=\"col-md-4\">\n",
      "                <p>\n",
      "                \n",
      "                    <a href=\"/login\">Login</a>\n",
      "                \n",
      "                </p>\n",
      "            </div>\n",
      "        </div>\n",
      "    \n",
      "<div class=\"row\">\n",
      "    <div class=\"col-md-8\">\n",
      "        <div class=\"quotes\"></div>\n",
      "    </div>\n",
      "</div>\n",
      "<div id=\"loading\" style=\"background-color: #eeeecc\"><h5>Loading...</h5></div>\n",
      "<script src=\"/static/jquery.js\"></script>\n",
      "<script>\n",
      "    $(function(){\n",
      "        var page = 1, tag = null, hasNextPage = true;\n",
      "        function appendQuotes(quotes) {\n",
      "            var $quotes = $('.quotes');\n",
      "            var html = $.map(quotes, function(d){\n",
      "                var tags = $.map(d['tags'], function(t) {\n",
      "                    return \"<a class='tag'>\" + t + \"</a>\";\n",
      "                }).join(\" \");\n",
      "                return \"<div class='quote'><span class='text'>\" + d['text'] + \"</span><span>by <small class='author'>\" + d['author']['name'] + \"</small></span><div class='tags'>Tags: \" + tags + \"</div></div>\";\n",
      "            });\n",
      "\n",
      "            $quotes.append(html);\n",
      "        }\n",
      "\n",
      "        function updatePage(page) {\n",
      "            $('#loading').show('fast');\n",
      "            $.get('/api/quotes', {page: page}).done(function(data) {\n",
      "                appendQuotes(data.quotes);\n",
      "                hasNextPage = data.has_next;\n",
      "                $('#loading').hide('fast');\n",
      "            });\n",
      "        }\n",
      "        updatePage(page);\n",
      "        $(window).on('scroll', function(){\n",
      "            var scrollTop = $(window).scrollTop();\n",
      "            var heightDiff = $(document).height() - $(window).height();\n",
      "            if (hasNextPage && Math.abs(scrollTop - heightDiff) <= 1){\n",
      "                page += 1;\n",
      "                console.log('scrolling to page: ' + page);\n",
      "                updatePage(page);\n",
      "            }\n",
      "        });\n",
      "    });\n",
      "</script>\n",
      "\n",
      "    </div>\n",
      "    <footer class=\"footer\">\n",
      "        <div class=\"container\">\n",
      "            <p class=\"text-muted\">\n",
      "                Quotes by: <a href=\"https://www.goodreads.com/quotes\">GoodReads.com</a>\n",
      "            </p>\n",
      "            <p class=\"copyright\">\n",
      "                Made with <span class='zyte'>❤</span> by <a class='zyte' href=\"https://www.zyte.com\">Zyte</a>\n",
      "            </p>\n",
      "        </div>\n",
      "    </footer>\n",
      "</body>\n",
      "</html>\n"
     ]
    }
   ],
   "source": [
    "# definir url\n",
    "url = 'https://quotes.toscrape.com/scroll'\n",
    "\n",
    "# realizar la peticion GET\n",
    "website = requests.get(url)\n",
    "\n",
    "# mostrar la web en texto\n",
    "print(website.text)"
   ]
  },
  {
   "cell_type": "markdown",
   "id": "f7838bb0",
   "metadata": {},
   "source": [
    "> El codigo de la pagina presenta un codigo en javascript que permite que aparezcan los elementos a medida que se scrollea."
   ]
  }
 ],
 "metadata": {
  "kernelspec": {
   "display_name": "scraping_env",
   "language": "python",
   "name": "python3"
  },
  "language_info": {
   "codemirror_mode": {
    "name": "ipython",
    "version": 3
   },
   "file_extension": ".py",
   "mimetype": "text/x-python",
   "name": "python",
   "nbconvert_exporter": "python",
   "pygments_lexer": "ipython3",
   "version": "3.10.18"
  }
 },
 "nbformat": 4,
 "nbformat_minor": 5
}
