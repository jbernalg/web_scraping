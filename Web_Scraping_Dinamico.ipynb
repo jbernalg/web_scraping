{
 "cells": [
  {
   "cell_type": "markdown",
   "id": "731b6c3d",
   "metadata": {},
   "source": [
    "# __Web Scraping desde la paractica: Paginas Dinamicas__"
   ]
  },
  {
   "cell_type": "markdown",
   "id": "b87d64af",
   "metadata": {},
   "source": [
    "Las paginas web dinamicas renderizan el HTML conforme vamos haciendo scroll de la misma. Esto genera un gran desafio a la hora de scrapear ya que no tiene definido un limite. Para solucionarlo, vamos a usar Selenium."
   ]
  },
  {
   "cell_type": "markdown",
   "id": "03a7aa9e",
   "metadata": {},
   "source": [
    "## Automatizacion de sitios web dinamicos"
   ]
  },
  {
   "cell_type": "markdown",
   "id": "19cdde1f",
   "metadata": {},
   "source": [
    "¿Estás cansado de realizar tareas repetitivas como llenar múltiples veces un mismo formulario o extraer elementos manualmente de un sitio web? La automatización es justamente la herramienta que necesitas para simplificar estos procesos rutinarios.\n",
    "\n",
    "En lo que sigue, vamos a obtener el HTML renderizado de una pagina dinamica y hacer ver algunas dificultades que presentan este tipo de paginas. La dificultad radica en que estos sitios web dinámicos no te permiten acceder directamente al contenido generado por el JavaScript. Al realizar peticiones GET con la librería Requests, solo obtienes JavaScript y elementos HTML estáticos, lo cual limita tu capacidad para extraer contenidos específicos que aparecen al hacer scroll."
   ]
  },
  {
   "cell_type": "markdown",
   "id": "fefc30b1",
   "metadata": {},
   "source": [
    "### Importar librerias"
   ]
  },
  {
   "cell_type": "code",
   "execution_count": 26,
   "id": "a8dd6924",
   "metadata": {},
   "outputs": [],
   "source": [
    "import requests"
   ]
  },
  {
   "cell_type": "markdown",
   "id": "ff80cbf3",
   "metadata": {},
   "source": [
    "### Obtener sitio web dinamico desde una peticion"
   ]
  },
  {
   "cell_type": "code",
   "execution_count": 27,
   "id": "336c6112",
   "metadata": {},
   "outputs": [
    {
     "name": "stdout",
     "output_type": "stream",
     "text": [
      "<!DOCTYPE html>\n",
      "<html lang=\"en\">\n",
      "<head>\n",
      "\t<meta charset=\"UTF-8\">\n",
      "\t<title>Quotes to Scrape</title>\n",
      "    <link rel=\"stylesheet\" href=\"/static/bootstrap.min.css\">\n",
      "    <link rel=\"stylesheet\" href=\"/static/main.css\">\n",
      "    \n",
      "    \n",
      "</head>\n",
      "<body>\n",
      "    <div class=\"container\">\n",
      "        <div class=\"row header-box\">\n",
      "            <div class=\"col-md-8\">\n",
      "                <h1>\n",
      "                    <a href=\"/\" style=\"text-decoration: none\">Quotes to Scrape</a>\n",
      "                </h1>\n",
      "            </div>\n",
      "            <div class=\"col-md-4\">\n",
      "                <p>\n",
      "                \n",
      "                    <a href=\"/login\">Login</a>\n",
      "                \n",
      "                </p>\n",
      "            </div>\n",
      "        </div>\n",
      "    \n",
      "<div class=\"row\">\n",
      "    <div class=\"col-md-8\">\n",
      "        <div class=\"quotes\"></div>\n",
      "    </div>\n",
      "</div>\n",
      "<div id=\"loading\" style=\"background-color: #eeeecc\"><h5>Loading...</h5></div>\n",
      "<script src=\"/static/jquery.js\"></script>\n",
      "<script>\n",
      "    $(function(){\n",
      "        var page = 1, tag = null, hasNextPage = true;\n",
      "        function appendQuotes(quotes) {\n",
      "            var $quotes = $('.quotes');\n",
      "            var html = $.map(quotes, function(d){\n",
      "                var tags = $.map(d['tags'], function(t) {\n",
      "                    return \"<a class='tag'>\" + t + \"</a>\";\n",
      "                }).join(\" \");\n",
      "                return \"<div class='quote'><span class='text'>\" + d['text'] + \"</span><span>by <small class='author'>\" + d['author']['name'] + \"</small></span><div class='tags'>Tags: \" + tags + \"</div></div>\";\n",
      "            });\n",
      "\n",
      "            $quotes.append(html);\n",
      "        }\n",
      "\n",
      "        function updatePage(page) {\n",
      "            $('#loading').show('fast');\n",
      "            $.get('/api/quotes', {page: page}).done(function(data) {\n",
      "                appendQuotes(data.quotes);\n",
      "                hasNextPage = data.has_next;\n",
      "                $('#loading').hide('fast');\n",
      "            });\n",
      "        }\n",
      "        updatePage(page);\n",
      "        $(window).on('scroll', function(){\n",
      "            var scrollTop = $(window).scrollTop();\n",
      "            var heightDiff = $(document).height() - $(window).height();\n",
      "            if (hasNextPage && Math.abs(scrollTop - heightDiff) <= 1){\n",
      "                page += 1;\n",
      "                console.log('scrolling to page: ' + page);\n",
      "                updatePage(page);\n",
      "            }\n",
      "        });\n",
      "    });\n",
      "</script>\n",
      "\n",
      "    </div>\n",
      "    <footer class=\"footer\">\n",
      "        <div class=\"container\">\n",
      "            <p class=\"text-muted\">\n",
      "                Quotes by: <a href=\"https://www.goodreads.com/quotes\">GoodReads.com</a>\n",
      "            </p>\n",
      "            <p class=\"copyright\">\n",
      "                Made with <span class='zyte'>❤</span> by <a class='zyte' href=\"https://www.zyte.com\">Zyte</a>\n",
      "            </p>\n",
      "        </div>\n",
      "    </footer>\n",
      "</body>\n",
      "</html>\n"
     ]
    }
   ],
   "source": [
    "# definir url\n",
    "url = 'https://quotes.toscrape.com/scroll'\n",
    "\n",
    "# realizar la peticion GET\n",
    "website = requests.get(url)\n",
    "\n",
    "# mostrar la web en texto\n",
    "print(website.text)"
   ]
  },
  {
   "cell_type": "markdown",
   "id": "f7838bb0",
   "metadata": {},
   "source": [
    "> El HTML de la pagina presenta un codigo en javascript que permite que aparezcan los elementos a medida que se scrollea. Sin embargo, esto limita la capacidad de scrapear con los metodos antes utilizados"
   ]
  },
  {
   "cell_type": "markdown",
   "id": "7b3f74fe",
   "metadata": {},
   "source": [
    "## Creacion de Scraper con Selenium"
   ]
  },
  {
   "cell_type": "markdown",
   "id": "2197e600",
   "metadata": {},
   "source": [
    "Crear un scraper eficaz usando Selenium y BeautifulSoup permite obtener información actualizada de páginas dinámicas con facilidad. Aprende cómo configurar la librería Selenium con WebDriver, acceder a una URL específica, gestionar el renderizado del HTML y extraer datos útiles como frases y autores."
   ]
  },
  {
   "cell_type": "markdown",
   "id": "2a3f2910",
   "metadata": {},
   "source": [
    "### Dependencias"
   ]
  },
  {
   "cell_type": "code",
   "execution_count": 28,
   "id": "25cd8d1c",
   "metadata": {},
   "outputs": [],
   "source": [
    "import time\n",
    "from bs4 import BeautifulSoup\n",
    "\n",
    "from selenium import webdriver\n",
    "from selenium.webdriver.chrome.service import Service"
   ]
  },
  {
   "cell_type": "markdown",
   "id": "601424e4",
   "metadata": {},
   "source": [
    "### Configuracion del Servidor y Driver "
   ]
  },
  {
   "cell_type": "code",
   "execution_count": 29,
   "id": "b735e3be",
   "metadata": {},
   "outputs": [],
   "source": [
    "# ruta al chromedriver\n",
    "chrome_driver_path = '/usr/local/bin/chromedriver-linux64/chromedriver'\n",
    "\n",
    "# configurar opciones para visualizar el paso a paso de la interaccion con el navegador\n",
    "options = webdriver.ChromeOptions()\n",
    "options.add_argument('--start-maximized') # pantalla completa\n",
    "options.add_argument('--disable-blink-features=AutomationControlled') # menos detectable\n",
    "\n",
    "# Crear el servidor y el driver\n",
    "service = Service(executable_path=chrome_driver_path)\n",
    "driver = webdriver.Chrome(service=service, options=options)\n"
   ]
  },
  {
   "cell_type": "markdown",
   "id": "1b7aa47c",
   "metadata": {},
   "source": [
    "### Definir url"
   ]
  },
  {
   "cell_type": "code",
   "execution_count": 30,
   "id": "ee5ff718",
   "metadata": {},
   "outputs": [],
   "source": [
    "# definir url\n",
    "url = 'https://quotes.toscrape.com/scroll'\n",
    "\n",
    "# realizar peticion GET\n",
    "driver.get(url)\n",
    "\n",
    "# definir un tiempo de espera para que se renderice el HTML\n",
    "time.sleep(3)"
   ]
  },
  {
   "cell_type": "markdown",
   "id": "0dd31525",
   "metadata": {},
   "source": [
    "### Manipular HTML renderizado"
   ]
  },
  {
   "cell_type": "code",
   "execution_count": 31,
   "id": "873a6a22",
   "metadata": {},
   "outputs": [
    {
     "name": "stdout",
     "output_type": "stream",
     "text": [
      "Citas encontradas:  30\n",
      "“The world as we have created it is a process of our thinking. It cannot be changed without changing our thinking.” - Albert Einstein\n",
      "“It is our choices, Harry, that show what we truly are, far more than our abilities.” - J.K. Rowling\n",
      "“There are only two ways to live your life. One is as though nothing is a miracle. The other is as though everything is a miracle.” - Albert Einstein\n",
      "“The person, be it gentleman or lady, who has not pleasure in a good novel, must be intolerably stupid.” - Jane Austen\n",
      "“Imperfection is beauty, madness is genius and it's better to be absolutely ridiculous than absolutely boring.” - Marilyn Monroe\n",
      "“Try not to become a man of success. Rather become a man of value.” - Albert Einstein\n",
      "“It is better to be hated for what you are than to be loved for what you are not.” - André Gide\n",
      "“I have not failed. I've just found 10,000 ways that won't work.” - Thomas A. Edison\n",
      "“A woman is like a tea bag; you never know how strong it is until it's in hot water.” - Eleanor Roosevelt\n",
      "“A day without sunshine is like, you know, night.” - Steve Martin\n",
      "“This life is what you make it. No matter what, you're going to mess up sometimes, it's a universal truth. But the good part is you get to decide how you're going to mess it up. Girls will be your friends - they'll act like it anyway. But just remember, some come, some go. The ones that stay with you through everything - they're your true best friends. Don't let go of them. Also remember, sisters make the best friends in the world. As for lovers, well, they'll come and go too. And baby, I hate to say it, most of them - actually pretty much all of them are going to break your heart, but you can't give up because if you give up, you'll never find your soulmate. You'll never find that half who makes you whole and that goes for everything. Just because you fail once, doesn't mean you're gonna fail at everything. Keep trying, hold on, and always, always, always believe in yourself, because if you don't, then who will, sweetie? So keep your head high, keep your chin up, and most importantly, keep smiling, because life's a beautiful thing and there's so much to smile about.” - Marilyn Monroe\n",
      "“It takes a great deal of bravery to stand up to our enemies, but just as much to stand up to our friends.” - J.K. Rowling\n",
      "“If you can't explain it to a six year old, you don't understand it yourself.” - Albert Einstein\n",
      "“You may not be her first, her last, or her only. She loved before she may love again. But if she loves you now, what else matters? She's not perfect—you aren't either, and the two of you may never be perfect together but if she can make you laugh, cause you to think twice, and admit to being human and making mistakes, hold onto her and give her the most you can. She may not be thinking about you every second of the day, but she will give you a part of her that she knows you can break—her heart. So don't hurt her, don't change her, don't analyze and don't expect more than she can give. Smile when she makes you happy, let her know when she makes you mad, and miss her when she's not there.” - Bob Marley\n",
      "“I like nonsense, it wakes up the brain cells. Fantasy is a necessary ingredient in living.” - Dr. Seuss\n",
      "“I may not have gone where I intended to go, but I think I have ended up where I needed to be.” - Douglas Adams\n",
      "“The opposite of love is not hate, it's indifference. The opposite of art is not ugliness, it's indifference. The opposite of faith is not heresy, it's indifference. And the opposite of life is not death, it's indifference.” - Elie Wiesel\n",
      "“It is not a lack of love, but a lack of friendship that makes unhappy marriages.” - Friedrich Nietzsche\n",
      "“Good friends, good books, and a sleepy conscience: this is the ideal life.” - Mark Twain\n",
      "“Life is what happens to us while we are making other plans.” - Allen Saunders\n",
      "“I love you without knowing how, or when, or from where. I love you simply, without problems or pride: I love you in this way because I do not know any other way of loving but this, in which there is no I or you, so intimate that your hand upon my chest is my hand, so intimate that when I fall asleep your eyes close.” - Pablo Neruda\n",
      "“For every minute you are angry you lose sixty seconds of happiness.” - Ralph Waldo Emerson\n",
      "“If you judge people, you have no time to love them.” - Mother Teresa\n",
      "“Anyone who thinks sitting in church can make you a Christian must also think that sitting in a garage can make you a car.” - Garrison Keillor\n",
      "“Beauty is in the eye of the beholder and it may be necessary from time to time to give a stupid or misinformed beholder a black eye.” - Jim Henson\n",
      "“Today you are You, that is truer than true. There is no one alive who is Youer than You.” - Dr. Seuss\n",
      "“If you want your children to be intelligent, read them fairy tales. If you want them to be more intelligent, read them more fairy tales.” - Albert Einstein\n",
      "“It is impossible to live without failing at something, unless you live so cautiously that you might as well not have lived at all - in which case, you fail by default.” - J.K. Rowling\n",
      "“Logic will get you from A to Z; imagination will get you everywhere.” - Albert Einstein\n",
      "“One good thing about music, when it hits you, you feel no pain.” - Bob Marley\n"
     ]
    }
   ],
   "source": [
    "# obtener HTML renderizado\n",
    "html = driver.page_source\n",
    "driver.quit()\n",
    "\n",
    "# procesar el HTML con beautifulSoup\n",
    "soup = BeautifulSoup(html, 'html.parser')\n",
    "quotes = soup.select('div.quote')\n",
    "\n",
    "print('Citas encontradas: ', len(quotes))\n",
    "\n",
    "for quote in quotes:\n",
    "    text = quote.find('span', class_='text').get_text()\n",
    "    autor = quote.find('small', class_='author').get_text()\n",
    "    print(f'{text} - {autor}')"
   ]
  },
  {
   "cell_type": "markdown",
   "id": "55a243ab",
   "metadata": {},
   "source": [
    "## Automatizacion de scroll"
   ]
  },
  {
   "cell_type": "markdown",
   "id": "5e773a92",
   "metadata": {},
   "source": [
    "Para realizar un scraping eficaz en sitios web que cuentan con scroll infinito es fundamental implementar correctamente las interacciones con el desplazamiento (scroll) de la página web. "
   ]
  },
  {
   "cell_type": "markdown",
   "id": "8cd3a31e",
   "metadata": {},
   "source": [
    "### Dependencias"
   ]
  },
  {
   "cell_type": "code",
   "execution_count": null,
   "id": "495cc86d",
   "metadata": {},
   "outputs": [],
   "source": [
    "import time\n",
    "\n",
    "from selenium import webdriver\n",
    "from selenium.webdriver.chrome.service import Service\n",
    "from selenium.webdriver.common.by import By"
   ]
  },
  {
   "cell_type": "markdown",
   "id": "da1b5dc3",
   "metadata": {},
   "source": [
    "### Configuracion del servicio y driver"
   ]
  },
  {
   "cell_type": "code",
   "execution_count": null,
   "id": "99fd2311",
   "metadata": {},
   "outputs": [],
   "source": [
    "# ruta al chromedriver\n",
    "chrome_driver_path = '/usr/local/bin/chromedriver-linux64/chromedriver'\n",
    "\n",
    "# configurar opciones para visualizar el paso a paso de la interaccion con el navegador\n",
    "options = webdriver.ChromeOptions()\n",
    "options.add_argument('--start-maximized') # pantalla completa\n",
    "options.add_argument('--disable-blink-features=AutomationControlled') # menos detectable\n",
    "\n",
    "# Crear el servidor y el driver\n",
    "service = Service(executable_path=chrome_driver_path)\n",
    "driver = webdriver.Chrome(service=service, options=options)\n"
   ]
  }
 ],
 "metadata": {
  "kernelspec": {
   "display_name": "scraping_env",
   "language": "python",
   "name": "python3"
  },
  "language_info": {
   "codemirror_mode": {
    "name": "ipython",
    "version": 3
   },
   "file_extension": ".py",
   "mimetype": "text/x-python",
   "name": "python",
   "nbconvert_exporter": "python",
   "pygments_lexer": "ipython3",
   "version": "3.10.18"
  }
 },
 "nbformat": 4,
 "nbformat_minor": 5
}
