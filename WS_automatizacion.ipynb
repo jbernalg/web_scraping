{
 "cells": [
  {
   "cell_type": "markdown",
   "id": "9b64df2b",
   "metadata": {},
   "source": [
    "# __Automatizacion de login__"
   ]
  },
  {
   "cell_type": "markdown",
   "id": "cb5f9987",
   "metadata": {},
   "source": [
    "La automatización de un login utilizando Selenium y BeautifulSoup facilita enormemente las tareas repetitivas en desarrollo web. Con pocos pasos, es posible configurar un scraper que interactúe automáticamente con formularios y accesos, optimizando procesos manuales."
   ]
  },
  {
   "cell_type": "markdown",
   "id": "e11d08e3",
   "metadata": {},
   "source": [
    "## Dependencias"
   ]
  }
 ],
 "metadata": {
  "language_info": {
   "name": "python"
  }
 },
 "nbformat": 4,
 "nbformat_minor": 5
}
