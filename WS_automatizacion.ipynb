{
 "cells": [
  {
   "cell_type": "markdown",
   "id": "9b64df2b",
   "metadata": {},
   "source": [
    "# __Automatizacion de login__"
   ]
  },
  {
   "cell_type": "markdown",
   "id": "cb5f9987",
   "metadata": {},
   "source": [
    "La automatización de un login utilizando Selenium y BeautifulSoup facilita enormemente las tareas repetitivas en desarrollo web. Con pocos pasos, es posible configurar un scraper que interactúe automáticamente con formularios y accesos, optimizando procesos manuales."
   ]
  },
  {
   "cell_type": "markdown",
   "id": "e11d08e3",
   "metadata": {},
   "source": [
    "## Dependencias"
   ]
  },
  {
   "cell_type": "code",
   "execution_count": 1,
   "id": "67c02699",
   "metadata": {},
   "outputs": [],
   "source": [
    "import time\n",
    "\n",
    "from selenium import webdriver\n",
    "from selenium.webdriver.chrome.service import Service\n",
    "from selenium.webdriver.common.by import By"
   ]
  },
  {
   "cell_type": "markdown",
   "id": "9dbd64fd",
   "metadata": {},
   "source": []
  }
 ],
 "metadata": {
  "kernelspec": {
   "display_name": "scraping_env",
   "language": "python",
   "name": "python3"
  },
  "language_info": {
   "codemirror_mode": {
    "name": "ipython",
    "version": 3
   },
   "file_extension": ".py",
   "mimetype": "text/x-python",
   "name": "python",
   "nbconvert_exporter": "python",
   "pygments_lexer": "ipython3",
   "version": "3.10.18"
  }
 },
 "nbformat": 4,
 "nbformat_minor": 5
}
