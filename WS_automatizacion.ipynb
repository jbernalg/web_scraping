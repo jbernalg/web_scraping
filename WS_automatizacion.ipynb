{
 "cells": [
  {
   "cell_type": "markdown",
   "id": "9b64df2b",
   "metadata": {},
   "source": [
    "# __Automatizacion de login__"
   ]
  },
  {
   "cell_type": "markdown",
   "id": "cb5f9987",
   "metadata": {},
   "source": [
    "La automatización de un login utilizando Selenium y BeautifulSoup facilita enormemente las tareas repetitivas en desarrollo web. Con pocos pasos, es posible configurar un scraper que interactúe automáticamente con formularios y accesos, optimizando procesos manuales."
   ]
  },
  {
   "cell_type": "markdown",
   "id": "e11d08e3",
   "metadata": {},
   "source": [
    "## Dependencias"
   ]
  },
  {
   "cell_type": "code",
   "execution_count": 1,
   "id": "67c02699",
   "metadata": {},
   "outputs": [],
   "source": [
    "import time\n",
    "\n",
    "from selenium import webdriver\n",
    "from selenium.webdriver.chrome.service import Service\n",
    "from selenium.webdriver.common.by import By"
   ]
  },
  {
   "cell_type": "markdown",
   "id": "9dbd64fd",
   "metadata": {},
   "source": [
    "## Configuracion del servicio y driver"
   ]
  },
  {
   "cell_type": "code",
   "execution_count": 2,
   "id": "6019588c",
   "metadata": {},
   "outputs": [],
   "source": [
    "# ruta al chromedriver\n",
    "chrome_driver_path = '/usr/local/bin/chromedriver-linux64/chromedriver'\n",
    "\n",
    "# configurar opciones para visualizar el paso a paso de la interaccion con el navegador\n",
    "options = webdriver.ChromeOptions()\n",
    "options.add_argument('--start-maximized') # pantalla completa\n",
    "options.add_argument('--disable-blink-features=AutomationControlled') # menos detectable\n",
    "\n",
    "# Crear el servidor y el driver\n",
    "service = Service(executable_path=chrome_driver_path)\n",
    "driver = webdriver.Chrome(service=service, options=options)"
   ]
  },
  {
   "cell_type": "markdown",
   "id": "9ebf9333",
   "metadata": {},
   "source": [
    "## Definir URL"
   ]
  },
  {
   "cell_type": "code",
   "execution_count": null,
   "id": "74f2cb6c",
   "metadata": {},
   "outputs": [],
   "source": [
    "# definir url\n",
    "url = 'https://quotes.toscrape.com/scroll'\n",
    "\n",
    "# realizar peticion GET\n",
    "driver.get(url)\n",
    "\n",
    "# esperar 3 segundos a que la pagina cargue correctamente\n",
    "time.sleep(3)"
   ]
  },
  {
   "cell_type": "markdown",
   "id": "d36bf579",
   "metadata": {},
   "source": [
    "## Implementacion"
   ]
  },
  {
   "cell_type": "markdown",
   "id": "37b3d3d3",
   "metadata": {},
   "source": [
    "**Hacer clic en el enlace Login**"
   ]
  },
  {
   "cell_type": "code",
   "execution_count": null,
   "id": "a0b460dc",
   "metadata": {},
   "outputs": [],
   "source": [
    "# encontrar el elemento asociado al link\n",
    "login_link = driver.find_element(By.LINK_TEXT, 'Login')\n",
    "# hacer clic al link\n",
    "login_link.click()\n",
    "# esperar por 2 segundos\n",
    "time.sleep(2)"
   ]
  }
 ],
 "metadata": {
  "kernelspec": {
   "display_name": "scraping_env",
   "language": "python",
   "name": "python3"
  },
  "language_info": {
   "codemirror_mode": {
    "name": "ipython",
    "version": 3
   },
   "file_extension": ".py",
   "mimetype": "text/x-python",
   "name": "python",
   "nbconvert_exporter": "python",
   "pygments_lexer": "ipython3",
   "version": "3.10.18"
  }
 },
 "nbformat": 4,
 "nbformat_minor": 5
}
