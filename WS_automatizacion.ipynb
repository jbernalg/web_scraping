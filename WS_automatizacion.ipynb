{
 "cells": [
  {
   "cell_type": "markdown",
   "id": "9b64df2b",
   "metadata": {},
   "source": [
    "# __Automatizacion de login__"
   ]
  },
  {
   "cell_type": "markdown",
   "id": "cb5f9987",
   "metadata": {},
   "source": [
    "La automatización de un login utilizando Selenium y BeautifulSoup facilita enormemente las tareas repetitivas en desarrollo web. Con pocos pasos, es posible configurar un scraper que interactúe automáticamente con formularios y accesos, optimizando procesos manuales."
   ]
  },
  {
   "cell_type": "markdown",
   "id": "e11d08e3",
   "metadata": {},
   "source": [
    "## Dependencias"
   ]
  },
  {
   "cell_type": "code",
   "execution_count": null,
   "id": "67c02699",
   "metadata": {},
   "outputs": [],
   "source": [
    "import time\n",
    "\n",
    "from selenium import webdriver\n",
    "from selenium.webdriver.chrome.service import Service\n",
    "from selenium.webdriver.common.by import By\n",
    "from bs4 import BeautifulSoup"
   ]
  },
  {
   "cell_type": "markdown",
   "id": "9dbd64fd",
   "metadata": {},
   "source": [
    "## Configuracion del servicio y driver"
   ]
  },
  {
   "cell_type": "code",
   "execution_count": 2,
   "id": "6019588c",
   "metadata": {},
   "outputs": [],
   "source": [
    "# ruta al chromedriver\n",
    "chrome_driver_path = '/usr/local/bin/chromedriver-linux64/chromedriver'\n",
    "\n",
    "# configurar opciones para visualizar el paso a paso de la interaccion con el navegador\n",
    "options = webdriver.ChromeOptions()\n",
    "options.add_argument('--start-maximized') # pantalla completa\n",
    "options.add_argument('--disable-blink-features=AutomationControlled') # menos detectable\n",
    "\n",
    "# Crear el servidor y el driver\n",
    "service = Service(executable_path=chrome_driver_path)\n",
    "driver = webdriver.Chrome(service=service, options=options)"
   ]
  },
  {
   "cell_type": "markdown",
   "id": "9ebf9333",
   "metadata": {},
   "source": [
    "## Definir URL"
   ]
  },
  {
   "cell_type": "code",
   "execution_count": null,
   "id": "74f2cb6c",
   "metadata": {},
   "outputs": [],
   "source": [
    "# definir url\n",
    "url = 'https://quotes.toscrape.com/scroll'\n",
    "\n",
    "# realizar peticion GET\n",
    "driver.get(url)\n",
    "\n",
    "# esperar 3 segundos a que la pagina cargue correctamente\n",
    "time.sleep(3)"
   ]
  },
  {
   "cell_type": "markdown",
   "id": "d36bf579",
   "metadata": {},
   "source": [
    "## Implementacion"
   ]
  },
  {
   "cell_type": "markdown",
   "id": "37b3d3d3",
   "metadata": {},
   "source": [
    "**Hacer clic en el enlace Login**"
   ]
  },
  {
   "cell_type": "code",
   "execution_count": null,
   "id": "a0b460dc",
   "metadata": {},
   "outputs": [],
   "source": [
    "# encontrar el elemento asociado al link\n",
    "login_link = driver.find_element(By.LINK_TEXT, 'Login')\n",
    "# hacer clic al link\n",
    "login_link.click()\n",
    "# esperar por 2 segundos\n",
    "time.sleep(2)"
   ]
  },
  {
   "cell_type": "markdown",
   "id": "c1286006",
   "metadata": {},
   "source": [
    "__Llenar campos de usuario y contrasena__"
   ]
  },
  {
   "cell_type": "code",
   "execution_count": null,
   "id": "c098e75a",
   "metadata": {},
   "outputs": [],
   "source": [
    "driver.find_element(By.ID, 'username').send_keys('platzi-admin')\n",
    "driver.find_element(By.ID, 'password').send_keys('12345')"
   ]
  },
  {
   "cell_type": "markdown",
   "id": "60d63c76",
   "metadata": {},
   "source": [
    "**Hacer clic en boton de Login**"
   ]
  },
  {
   "cell_type": "code",
   "execution_count": null,
   "id": "f0f5ea7f",
   "metadata": {},
   "outputs": [],
   "source": [
    "driver.find_element(By.CSS_SELECTOR, \"input[type='submit']\").click()\n",
    "# esperar 5 segundos\n",
    "time.sleep(5)"
   ]
  },
  {
   "cell_type": "markdown",
   "id": "30c11218",
   "metadata": {},
   "source": [
    "__Extraer etiquetas de la web__"
   ]
  },
  {
   "cell_type": "code",
   "execution_count": null,
   "id": "45209259",
   "metadata": {},
   "outputs": [],
   "source": [
    "soup = BeautifulSoup(driver.page_source, 'html.parser')\n",
    "tags_box = soup.find('div', class_='tags-box')\n",
    "tags = [tag.get_text(strip=True) for tag in tags_box.find_all('a', class_='tag')]\n",
    "\n",
    "# mostrar resultados\n",
    "print('Top 10 etiquetas: ')\n",
    "for tag in tags:\n",
    "    print('-', tag)"
   ]
  },
  {
   "cell_type": "markdown",
   "id": "92066d36",
   "metadata": {},
   "source": [
    "__Cerrar el navegador__"
   ]
  },
  {
   "cell_type": "code",
   "execution_count": null,
   "id": "8fdba2a7",
   "metadata": {},
   "outputs": [],
   "source": []
  }
 ],
 "metadata": {
  "kernelspec": {
   "display_name": "scraping_env",
   "language": "python",
   "name": "python3"
  },
  "language_info": {
   "codemirror_mode": {
    "name": "ipython",
    "version": 3
   },
   "file_extension": ".py",
   "mimetype": "text/x-python",
   "name": "python",
   "nbconvert_exporter": "python",
   "pygments_lexer": "ipython3",
   "version": "3.10.18"
  }
 },
 "nbformat": 4,
 "nbformat_minor": 5
}
